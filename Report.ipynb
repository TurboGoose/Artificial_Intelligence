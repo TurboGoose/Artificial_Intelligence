{
  "nbformat": 4,
  "nbformat_minor": 0,
  "metadata": {
    "colab": {
      "name": "Report",
      "provenance": [],
      "collapsed_sections": [],
      "authorship_tag": "ABX9TyOp5O4O9mkp1K5zU8Nya1CJ",
      "include_colab_link": true
    },
    "kernelspec": {
      "name": "python3",
      "display_name": "Python 3"
    }
  },
  "cells": [
    {
      "cell_type": "markdown",
      "metadata": {
        "id": "view-in-github",
        "colab_type": "text"
      },
      "source": [
        "<a href=\"https://colab.research.google.com/github/TurboGoose/Artificial_Intelligence/blob/main/Report.ipynb\" target=\"_parent\"><img src=\"https://colab.research.google.com/assets/colab-badge.svg\" alt=\"Open In Colab\"/></a>"
      ]
    },
    {
      "cell_type": "markdown",
      "metadata": {
        "id": "dc2n_kRkD7No"
      },
      "source": [
        "## **Сверточная нейронная сеть по распознаванию изображений рукописных цифр**"
      ]
    },
    {
      "cell_type": "markdown",
      "metadata": {
        "id": "kTyaHRF5IoIR"
      },
      "source": [
        "Выполнил студент группы 19.Б05-пу Коновалов Илья"
      ]
    },
    {
      "cell_type": "markdown",
      "metadata": {
        "id": "p__QLjVJD521"
      },
      "source": [
        "# Импортируем все необходимые библиотеки"
      ]
    },
    {
      "cell_type": "code",
      "metadata": {
        "id": "am4u-10MCOc5"
      },
      "source": [
        "import numpy as np\r\n",
        "import matplotlib.pyplot as plt\r\n",
        "from tensorflow.keras.datasets import mnist\r\n",
        "from tensorflow import keras\r\n",
        "from tensorflow.keras.layers import Dense, Flatten, Conv2D, MaxPooling2D"
      ],
      "execution_count": null,
      "outputs": []
    },
    {
      "cell_type": "markdown",
      "metadata": {
        "id": "zRG5M1rMTkaf"
      },
      "source": [
        "# Загружаем датасет"
      ]
    },
    {
      "cell_type": "markdown",
      "metadata": {
        "id": "8CUlq39QYX2x"
      },
      "source": [
        "В качестве датасета выступает база данных MNIST.\r\n",
        "\r\n",
        "\r\n",
        "Обучающая выборка включает в себя 60000 изображений масштабом 28х28 пикселей.\r\n",
        "\r\n",
        "Тестовая выборка - 10000 изображений."
      ]
    },
    {
      "cell_type": "code",
      "metadata": {
        "id": "duZEZ4AATlmn"
      },
      "source": [
        "(x_train, y_train), (x_test, y_test) = mnist.load_data()"
      ],
      "execution_count": null,
      "outputs": []
    },
    {
      "cell_type": "markdown",
      "metadata": {
        "id": "CYAzPnG0T8l4"
      },
      "source": [
        "# Пример входных данных"
      ]
    },
    {
      "cell_type": "code",
      "metadata": {
        "colab": {
          "base_uri": "https://localhost:8080/",
          "height": 279
        },
        "id": "dqwsXYkuT-75",
        "outputId": "0247b6fd-033b-43b1-ae26-f0dc71cb443a"
      },
      "source": [
        "plt.figure(figsize=(10, 5))\r\n",
        "for i in range(10):\r\n",
        "    plt.subplot(2, 5, i+1)\r\n",
        "    plt.xticks([])\r\n",
        "    plt.yticks([])\r\n",
        "    plt.imshow(x_train[i], cmap=plt.cm.binary)\r\n",
        "plt.show()"
      ],
      "execution_count": null,
      "outputs": [
        {
          "output_type": "display_data",
          "data": {
            "image/png": "[encoded data removed]",
            "text/plain": [
              "<Figure size 720x360 with 10 Axes>"
            ]
          },
          "metadata": {
            "tags": []
          }
        }
      ]
    },
    {
      "cell_type": "markdown",
      "metadata": {
        "id": "k1DQvtu9UKsd"
      },
      "source": [
        "# Стандантизируем входные данные"
      ]
    },
    {
      "cell_type": "code",
      "metadata": {
        "id": "kxqospHiTzXX"
      },
      "source": [
        "x_train = x_train / 255\r\n",
        "x_test = x_test / 255\r\n",
        "x_train = np.expand_dims(x_train, axis=3)\r\n",
        "x_test = np.expand_dims(x_test, axis=3)"
      ],
      "execution_count": null,
      "outputs": []
    },
    {
      "cell_type": "markdown",
      "metadata": {
        "id": "A3W-HJRNYxw-"
      },
      "source": [
        "# Преобразовываем результаты к категориальному виду"
      ]
    },
    {
      "cell_type": "code",
      "metadata": {
        "id": "RQbIDkKKYzPl"
      },
      "source": [
        "y_train_cat = keras.utils.to_categorical(y_train, 10)\r\n",
        "y_test_cat = keras.utils.to_categorical(y_test, 10)"
      ],
      "execution_count": null,
      "outputs": []
    },
    {
      "cell_type": "markdown",
      "metadata": {
        "id": "ZNQ5t57eUxRd"
      },
      "source": [
        "# Конфигурируем нейронную сеть"
      ]
    },
    {
      "cell_type": "markdown",
      "metadata": {
        "id": "WDwIplDbbrI8"
      },
      "source": [
        "После ряда экспериментов была выбрана следующая модель сверточной нейронной сети:"
      ]
    },
    {
      "cell_type": "code",
      "metadata": {
        "id": "9rPvLFDlUvJ3"
      },
      "source": [
        "model = keras.Sequential([\r\n",
        "    Conv2D(32, (3, 3), padding='same', activation='relu', input_shape=(28, 28, 1)),\r\n",
        "    MaxPooling2D((2, 2), strides=2),\r\n",
        "    Conv2D(64, (3, 3), padding='same', activation='relu'),\r\n",
        "    Flatten(),\r\n",
        "    Dense(64, activation='relu'),\r\n",
        "    Dense(10,  activation='softmax')\r\n",
        "])"
      ],
      "execution_count": null,
      "outputs": []
    },
    {
      "cell_type": "code",
      "metadata": {
        "colab": {
          "base_uri": "https://localhost:8080/"
        },
        "id": "3emWBjxkVENH",
        "outputId": "f766ed76-8f6e-488a-c077-97a91842de88"
      },
      "source": [
        "print(model.summary())"
      ],
      "execution_count": null,
      "outputs": [
        {
          "output_type": "stream",
          "text": [
            "Model: \"sequential_1\"\n",
            "_________________________________________________________________\n",
            "Layer (type)                 Output Shape              Param #   \n",
            "=================================================================\n",
            "conv2d_2 (Conv2D)            (None, 28, 28, 32)        320       \n",
            "_________________________________________________________________\n",
            "max_pooling2d_1 (MaxPooling2 (None, 14, 14, 32)        0         \n",
            "_________________________________________________________________\n",
            "conv2d_3 (Conv2D)            (None, 14, 14, 64)        18496     \n",
            "_________________________________________________________________\n",
            "flatten_1 (Flatten)          (None, 12544)             0         \n",
            "_________________________________________________________________\n",
            "dense_2 (Dense)              (None, 64)                802880    \n",
            "_________________________________________________________________\n",
            "dense_3 (Dense)              (None, 10)                650       \n",
            "=================================================================\n",
            "Total params: 822,346\n",
            "Trainable params: 822,346\n",
            "Non-trainable params: 0\n",
            "_________________________________________________________________\n",
            "None\n"
          ],
          "name": "stdout"
        }
      ]
    },
    {
      "cell_type": "markdown",
      "metadata": {
        "id": "oiCc3QXOVmpJ"
      },
      "source": [
        "# Компилируем нейронную сеть"
      ]
    },
    {
      "cell_type": "markdown",
      "metadata": {
        "id": "WUibvoyZVmf0"
      },
      "source": [
        "В качестве критерия качества выбрана категориальная кросс-энтропия,\r\n",
        "поскольку распознавание рукописных цифр по сути является задачей классификации изображений по одной из 10 категорий."
      ]
    },
    {
      "cell_type": "code",
      "metadata": {
        "id": "M5kkJs0-VgFD"
      },
      "source": [
        "model.compile(optimizer='adam', loss='categorical_crossentropy', metrics=['accuracy'])"
      ],
      "execution_count": null,
      "outputs": []
    },
    {
      "cell_type": "markdown",
      "metadata": {
        "id": "yzQq707JWQFw"
      },
      "source": [
        "# Обучаем нейронную сеть"
      ]
    },
    {
      "cell_type": "markdown",
      "metadata": {
        "id": "nUi__mcLa0jm"
      },
      "source": [
        "Поскольку датасет не слишком большой, ограничимся размером одного батча в 100 изображений.\r\n",
        "\r\n",
        "В качестве валидационной выборки берутся 20% данных обучающей выборки (12000 изображений)."
      ]
    },
    {
      "cell_type": "code",
      "metadata": {
        "colab": {
          "base_uri": "https://localhost:8080/"
        },
        "id": "9C52iE4nWIHz",
        "outputId": "097394d0-9ca2-4c2f-c60c-a9ef916139ba"
      },
      "source": [
        "history = model.fit(x_train, y_train_cat, batch_size=100, epochs=4, validation_split=0.2)"
      ],
      "execution_count": null,
      "outputs": [
        {
          "output_type": "stream",
          "text": [
            "Epoch 1/4\n",
            "480/480 [==============================] - 54s 113ms/step - loss: 0.1972 - accuracy: 0.9404 - val_loss: 0.0647 - val_accuracy: 0.9812\n",
            "Epoch 2/4\n",
            "480/480 [==============================] - 55s 114ms/step - loss: 0.0540 - accuracy: 0.9830 - val_loss: 0.0529 - val_accuracy: 0.9842\n",
            "Epoch 3/4\n",
            "480/480 [==============================] - 55s 115ms/step - loss: 0.0353 - accuracy: 0.9890 - val_loss: 0.0516 - val_accuracy: 0.9857\n",
            "Epoch 4/4\n",
            "480/480 [==============================] - 55s 115ms/step - loss: 0.0240 - accuracy: 0.9925 - val_loss: 0.0419 - val_accuracy: 0.9872\n"
          ],
          "name": "stdout"
        }
      ]
    },
    {
      "cell_type": "markdown",
      "metadata": {
        "id": "vsi9XTAXWmR5"
      },
      "source": [
        "# Графики функции потерь для процессов обучения и валидации"
      ]
    },
    {
      "cell_type": "code",
      "metadata": {
        "id": "BmPMwwNaWlMv",
        "colab": {
          "base_uri": "https://localhost:8080/",
          "height": 295
        },
        "outputId": "41495d9a-755a-48a8-ce45-812e1fcd0008"
      },
      "source": [
        "plt.title('Training and Validation loss')\r\n",
        "plt.xlabel('Epoch')\r\n",
        "plt.ylabel('Loss')\r\n",
        "plt.plot(history.history['loss'], label='loss')\r\n",
        "plt.plot(history.history['val_loss'], label='val_loss')\r\n",
        "plt.legend(loc='upper right')\r\n",
        "plt.show()"
      ],
      "execution_count": null,
      "outputs": [
        {
          "output_type": "display_data",
          "data": {
            "image/png": "[encoded data removed]",
            "text/plain": [
              "<Figure size 432x288 with 1 Axes>"
            ]
          },
          "metadata": {
            "tags": [],
            "needs_background": "light"
          }
        }
      ]
    },
    {
      "cell_type": "markdown",
      "metadata": {
        "id": "d0scNOvcRRSp"
      },
      "source": [
        "# Графики точности работы нейронной сети для процессов обучения и валидации"
      ]
    },
    {
      "cell_type": "code",
      "metadata": {
        "colab": {
          "base_uri": "https://localhost:8080/",
          "height": 295
        },
        "id": "uzqWeyJARQ4p",
        "outputId": "ce0420aa-a4f0-42d2-82b1-201a680a0e08"
      },
      "source": [
        "plt.title('Training and Validation accuracy')\r\n",
        "plt.xlabel('Epoch')\r\n",
        "plt.ylabel('Accuracy %')\r\n",
        "plt.plot(history.history['accuracy'], label='accuracy')\r\n",
        "plt.plot(history.history['val_accuracy'], label='val_accuracy')\r\n",
        "plt.legend(loc='lower right')\r\n",
        "plt.show()"
      ],
      "execution_count": null,
      "outputs": [
        {
          "output_type": "display_data",
          "data": {
            "image/png": "[encoded data removed]",
            "text/plain": [
              "<Figure size 432x288 with 1 Axes>"
            ]
          },
          "metadata": {
            "tags": [],
            "needs_background": "light"
          }
        }
      ]
    },
    {
      "cell_type": "markdown",
      "metadata": {
        "id": "HJv1Geh2WZ8i"
      },
      "source": [
        "# Проверяем качество обучения на тестовой выборке"
      ]
    },
    {
      "cell_type": "code",
      "metadata": {
        "id": "ZLA6owBBWkSS",
        "colab": {
          "base_uri": "https://localhost:8080/"
        },
        "outputId": "67d36433-f8cb-4a14-c191-3e08f26ceb31"
      },
      "source": [
        "model.evaluate(x_test, y_test_cat)"
      ],
      "execution_count": null,
      "outputs": [
        {
          "output_type": "stream",
          "text": [
            "313/313 [==============================] - 4s 12ms/step - loss: 0.0347 - accuracy: 0.9882\n"
          ],
          "name": "stdout"
        },
        {
          "output_type": "execute_result",
          "data": {
            "text/plain": [
              "[0.034696314483881, 0.9882000088691711]"
            ]
          },
          "metadata": {
            "tags": []
          },
          "execution_count": 12
        }
      ]
    },
    {
      "cell_type": "markdown",
      "metadata": {
        "id": "uYTJ4qnvhNth"
      },
      "source": [
        "# Итоги"
      ]
    },
    {
      "cell_type": "markdown",
      "metadata": {
        "id": "7emZ9X4uhQPK"
      },
      "source": [
        "Сверточная нейронная сеть показала достойный результат в задаче классификации изображений рукописных цифр, достигнув показателей точности близких к 100%."
      ]
    }
  ]
}